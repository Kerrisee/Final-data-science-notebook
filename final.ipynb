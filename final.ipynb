{
  "metadata": {
    "kernelspec": {
      "name": "python",
      "display_name": "Python (Pyodide)",
      "language": "python"
    },
    "language_info": {
      "codemirror_mode": {
        "name": "python",
        "version": 3
      },
      "file_extension": ".py",
      "mimetype": "text/x-python",
      "name": "python",
      "nbconvert_exporter": "python",
      "pygments_lexer": "ipython3",
      "version": "3.8"
    }
  },
  "nbformat_minor": 5,
  "nbformat": 4,
  "cells": [
    {
      "id": "d7db5869-cb59-4665-966b-629090c958ee",
      "cell_type": "markdown",
      "source": "# Data Science Tools and Ecosystem\n",
      "metadata": {
        "jp-MarkdownHeadingCollapsed": true,
        "tags": [],
        "editable": true,
        "slideshow": {
          "slide_type": ""
        }
      }
    },
    {
      "id": "6603be12-5123-41f0-bf82-4bc45eaeed87",
      "cell_type": "markdown",
      "source": "In this notebook, Data Science Tools and Ecosystem are summarized.\n",
      "metadata": {}
    },
    {
      "id": "6f9415c7-0751-4392-ad5c-445e7609ce8a",
      "cell_type": "markdown",
      "source": "## Data Science Languages\nSome of the popular languages that Data Scientists use are:\n\n- Python  \n- R  \n- SQL  \n- Julia  \n- Scala\n",
      "metadata": {}
    },
    {
      "id": "e624ed56-6561-485d-97a2-a6b6b1e1ab88",
      "cell_type": "markdown",
      "source": "## Data Science Libraries\nSome of the commonly used libraries used by Data Scientists include:\n\n- Pandas  \n- NumPy  \n- Matplotlib  \n- Scikit-learn  \n- TensorFlow\n",
      "metadata": {}
    },
    {
      "id": "dd2982dc-6767-4c32-84ed-ac78fed95548",
      "cell_type": "markdown",
      "source": "## Data Science Tools\n\n| Category | Tool |\n|----------|------|\n| Data Analysis | Pandas |\n| Machine Learning | Scikit-learn |\n| Deep Learning | TensorFlow |\n| Data Visualization | Matplotlib |\n| Big Data | Apache Spark |\n",
      "metadata": {}
    },
    {
      "id": "3a1d6328-28f6-40ee-8843-75756b135b45",
      "cell_type": "markdown",
      "source": "### Below are a few examples of evaluating arithmetic expressions in Python.\n",
      "metadata": {}
    },
    {
      "id": "6fe6a0b6-6378-4607-98d0-1383a1098a89",
      "cell_type": "code",
      "source": "# This expression multiplies and adds numbers\n(3 * 4) + 5\n",
      "metadata": {
        "trusted": true
      },
      "outputs": [
        {
          "execution_count": 3,
          "output_type": "execute_result",
          "data": {
            "text/plain": "17"
          },
          "metadata": {}
        }
      ],
      "execution_count": 3
    },
    {
      "id": "36d54bef-654c-4d09-ac90-f5186d59d88b",
      "cell_type": "code",
      "source": "# This will convert 200 minutes to hours by dividing by 60\nminutes = 200\nhours = minutes / 60\nhours\n",
      "metadata": {
        "trusted": true
      },
      "outputs": [
        {
          "execution_count": 4,
          "output_type": "execute_result",
          "data": {
            "text/plain": "3.3333333333333335"
          },
          "metadata": {}
        }
      ],
      "execution_count": 4
    },
    {
      "id": "3741678d-6a30-44c9-ac42-1536978121d6",
      "cell_type": "markdown",
      "source": "## Objectives\n- List popular languages for Data Science  \n- List commonly used libraries in Data Science  \n- Create tables using Markdown  \n- Perform arithmetic operations using Python  \n- Convert units using code\n",
      "metadata": {}
    },
    {
      "id": "9201ccfd-cf1d-443a-83fc-89e806b10174",
      "cell_type": "markdown",
      "source": "## Author\nJennette Larson\n",
      "metadata": {}
    }
  ]
}